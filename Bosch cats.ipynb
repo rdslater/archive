{
 "cells": [
  {
   "cell_type": "code",
   "execution_count": 1,
   "metadata": {
    "collapsed": true
   },
   "outputs": [],
   "source": [
    "import numpy as np\n",
    "import pandas as pd\n",
    "uniques=np.load('./kaggle/Bosch/data/uniques.npy').item()\n",
    "\n",
    "data=pd.read_csv('./kaggle/Bosch/data/train_categorical.csv', nrows=10, dtype=str)\n",
    "colist=data.columns.tolist()\n",
    "\n",
    "multi=[]\n",
    "single=[]\n",
    "for key in uniques:\n",
    "    if len(uniques[key])==1:\n",
    "        single.append(key)\n",
    "    elif len(uniques[key])>1:\n",
    "        multi.append(key)\n",
    "        \n",
    "data_out_cols=[]\n",
    "data_out_cols.append('Id')\n",
    "\n",
    "for col in multi:\n",
    "    cat_vals=list(uniques[col])\n",
    "    for item in cat_vals:\n",
    "        name=col+\"_\"+item\n",
    "        data_out_cols.append(name)\n",
    "multi_cols=data_out_cols\n",
    "data_out_cols=data_out_cols+single\n",
    "\n",
    "numcols=[]\n",
    "numcols.append(0)\n",
    "for col in multi:\n",
    "    numcols.append(colist.index(col))\n",
    "\n",
    "for col in single:\n",
    "    numcols.append(colist.index(col))"
   ]
  },
  {
   "cell_type": "code",
   "execution_count": 7,
   "metadata": {
    "collapsed": false
   },
   "outputs": [
    {
     "name": "stdout",
     "output_type": "stream",
     "text": [
      "*\n",
      "*\n",
      "*\n",
      "*\n",
      "*\n",
      "*\n",
      "*\n",
      "*\n",
      "*\n",
      "*\n",
      "*\n",
      "*\n",
      "*\n",
      "*\n",
      "*\n",
      "*\n",
      "*\n",
      "*\n",
      "*\n",
      "*\n",
      "*\n",
      "*\n",
      "*\n",
      "*\n"
     ]
    }
   ],
   "source": [
    "\n",
    "\n",
    "\n",
    "\n",
    "data=pd.read_csv('./kaggle/Bosch/data/train_categorical.csv', chunksize=50000, usecols=numcols, dtype=str)\n",
    "multi=[]\n",
    "single=[]\n",
    "for key in uniques:\n",
    "    if len(uniques[key])==1:\n",
    "        single.append(key)\n",
    "    elif len(uniques[key])>1:\n",
    "        multi.append(key)\n",
    "\n",
    "        \n",
    "data_out_cols=[]\n",
    "data_out_cols.append('Id')\n",
    "for col in multi:\n",
    "    cat_vals=list(uniques[col])\n",
    "    for item in cat_vals:\n",
    "        name=col+\"_\"+item\n",
    "        data_out_cols.append(name)\n",
    "multi_cols=data_out_cols\n",
    "data_out_cols=data_out_cols+single\n",
    "\n",
    "toggle=True\n",
    "\n",
    "f=open('./kaggle/Bosch/data/train_cat_factor.csv', 'a') \n",
    "\n",
    "for data_in in data:\n",
    "    print('*')\n",
    "    data_out=pd.DataFrame(columns=data_out_cols)\n",
    "    data_out['Id']=data_in['Id']\n",
    "    for colname in single:\n",
    "        data_out.loc[data_out[colname].notnull(),colname]=1\n",
    "    for colname in multi:\n",
    "        values=list(uniques[colname])\n",
    "        for val in values:\n",
    "            if data_in.loc[data_in[colname].notnull(),colname].shape[0]==0:\n",
    "                continue\n",
    "            else:\n",
    "                out_col=colname+'_'+val\n",
    "                data_out.loc[data_in[colname]==val,out_col]=1\n",
    "    \n",
    "    data_out.to_csv(f,header=toggle, index=False)\n",
    "    toggle=False\n",
    "    \n",
    "f.close()"
   ]
  },
  {
   "cell_type": "code",
   "execution_count": 6,
   "metadata": {
    "collapsed": false
   },
   "outputs": [],
   "source": [
    "multi=[]\n",
    "single=[]\n",
    "for key in uniques:\n",
    "    if len(uniques[key])==1:\n",
    "        single.append(key)\n",
    "    elif len(uniques[key])>1:\n",
    "        multi.append(key)"
   ]
  },
  {
   "cell_type": "code",
   "execution_count": 8,
   "metadata": {
    "collapsed": false
   },
   "outputs": [],
   "source": [
    "\n"
   ]
  },
  {
   "cell_type": "code",
   "execution_count": 172,
   "metadata": {
    "collapsed": false
   },
   "outputs": [],
   "source": [
    "data_out=pd.DataFrame(columns=data_out_cols)"
   ]
  },
  {
   "cell_type": "code",
   "execution_count": 6,
   "metadata": {
    "collapsed": false
   },
   "outputs": [],
   "source": [
    "f.close()\n",
    "\n"
   ]
  },
  {
   "cell_type": "code",
   "execution_count": 173,
   "metadata": {
    "collapsed": false
   },
   "outputs": [],
   "source": [
    "data_out['Id']=data_in['Id']\n",
    "for colname in single:\n",
    "    data_out.loc[data_out[colname].notnull(),colname]=1"
   ]
  },
  {
   "cell_type": "code",
   "execution_count": 174,
   "metadata": {
    "collapsed": false
   },
   "outputs": [],
   "source": [
    "for colname in multi:\n",
    "    values=list(uniques[colname])\n",
    "    \n",
    "    for val in values:\n",
    "        if data_in.loc[data_in[colname].notnull(),colname].shape[0]==0:\n",
    "            continue\n",
    "        else:\n",
    "            out_col=colname+'_'+val\n",
    "            data_out.loc[data_in[colname]==val,out_col]=1"
   ]
  },
  {
   "cell_type": "code",
   "execution_count": 188,
   "metadata": {
    "collapsed": false
   },
   "outputs": [
    {
     "ename": "TypeError",
     "evalue": "'Series' object is not callable",
     "output_type": "error",
     "traceback": [
      "\u001b[1;31m---------------------------------------------------------------------------\u001b[0m",
      "\u001b[1;31mTypeError\u001b[0m                                 Traceback (most recent call last)",
      "\u001b[1;32m<ipython-input-188-f05579495325>\u001b[0m in \u001b[0;36m<module>\u001b[1;34m()\u001b[0m\n\u001b[1;32m----> 1\u001b[1;33m \u001b[0mdata_in\u001b[0m\u001b[1;33m.\u001b[0m\u001b[0mdtypes\u001b[0m\u001b[1;33m(\u001b[0m\u001b[1;33m)\u001b[0m\u001b[1;33m\u001b[0m\u001b[0m\n\u001b[0m",
      "\u001b[1;31mTypeError\u001b[0m: 'Series' object is not callable"
     ]
    }
   ],
   "source": [
    "data_in.dtypes()"
   ]
  },
  {
   "cell_type": "code",
   "execution_count": 140,
   "metadata": {
    "collapsed": false
   },
   "outputs": [
    {
     "data": {
      "text/plain": [
       "0"
      ]
     },
     "execution_count": 140,
     "metadata": {},
     "output_type": "execute_result"
    }
   ],
   "source": [
    "data_in.loc[data_in['L0_S9_F214'].notnull(),colname].shape[0]"
   ]
  },
  {
   "cell_type": "code",
   "execution_count": 121,
   "metadata": {
    "collapsed": false
   },
   "outputs": [
    {
     "data": {
      "text/plain": [
       "7     T145\n",
       "20    T145\n",
       "36    T145\n",
       "50    T145\n",
       "52    T145\n",
       "63    T145\n",
       "67    T145\n",
       "92    T143\n",
       "Name: L2_S26_F3099, dtype: object"
      ]
     },
     "execution_count": 121,
     "metadata": {},
     "output_type": "execute_result"
    }
   ],
   "source": [
    "data_in.loc[data_in[colname].notnull(),colname].empty()"
   ]
  },
  {
   "cell_type": "code",
   "execution_count": 1,
   "metadata": {
    "collapsed": false
   },
   "outputs": [],
   "source": [
    "val='T145'"
   ]
  },
  {
   "cell_type": "code",
   "execution_count": 189,
   "metadata": {
    "collapsed": false
   },
   "outputs": [],
   "source": [
    "data_out=pd.DataFrame(columns=data_out_cols)"
   ]
  },
  {
   "cell_type": "code",
   "execution_count": null,
   "metadata": {
    "collapsed": false
   },
   "outputs": [],
   "source": [
    "data_out.astype(np.int32)"
   ]
  },
  {
   "cell_type": "code",
   "execution_count": null,
   "metadata": {
    "collapsed": true
   },
   "outputs": [],
   "source": []
  }
 ],
 "metadata": {
  "kernelspec": {
   "display_name": "Python 3",
   "language": "python",
   "name": "python3"
  },
  "language_info": {
   "codemirror_mode": {
    "name": "ipython",
    "version": 3
   },
   "file_extension": ".py",
   "mimetype": "text/x-python",
   "name": "python",
   "nbconvert_exporter": "python",
   "pygments_lexer": "ipython3",
   "version": "3.5.1"
  }
 },
 "nbformat": 4,
 "nbformat_minor": 0
}
