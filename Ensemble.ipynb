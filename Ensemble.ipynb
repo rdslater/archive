{
 "cells": [
  {
   "cell_type": "code",
   "execution_count": null,
   "metadata": {
    "collapsed": false
   },
   "outputs": [],
   "source": [
    "import pandas as pd\n",
    "import numpy as np\n",
    "%matplotlib inline\n",
    "train=pd.read_csv('../data/train.csv')\n",
    "test=pd.read_csv('../data/test.csv')\n",
    "loss=train['loss']\n",
    "ids=train['id']\n",
    "test_id=test['id']\n",
    "#just lazy as I already munged in the data in Allstate Basic, so I reload the munged data.\n",
    "train=pd.read_csv('../data/train_ohe.csv')\n",
    "test=pd.read_csv('../data/test_ohe.csv')\n",
    "train.drop(['loss'],inplace=True,axis=1)\n",
    "\n",
    "\n",
    "from sklearn.ensemble import ExtraTreesRegressor,RandomForestRegressor\n",
    "import xgboost as xgb\n",
    "#del train\n",
    "#del test"
   ]
  },
  {
   "cell_type": "code",
   "execution_count": null,
   "metadata": {
    "collapsed": false
   },
   "outputs": [],
   "source": [
    "seed=[1,2,3,4,5]\n",
    "dtrain = xgb.DMatrix(train.as_matrix(),label=loss.as_matrix())\n",
    "dtest=xgb.DMatrix(test.as_matrix(), label=None)\n",
    "for i in seed:\n",
    "    \n",
    "    rf=RandomForestRegressor(n_estimators=100, criterion='mse', max_depth=None,\n",
    "                             min_samples_split=2, min_samples_leaf=1, max_features=0.2, \n",
    "                             max_leaf_nodes=None,   \n",
    "                             oob_score=True, n_jobs=4, random_state=i, verbose=1)\n",
    "    et=ExtraTreesRegressor(n_estimators=100, criterion='mse', max_depth=0.2,\n",
    "                             min_samples_split=2, min_samples_leaf=1, max_features=None, \n",
    "                             max_leaf_nodes=None,   \n",
    "                             n_jobs=4, random_state=i, verbose=1)\n",
    "    param = {'max_depth':6, \n",
    "                 'eta':0.1, \n",
    "                 'silent':False, \n",
    "                 'objective':'reg:linear', \n",
    "                 'verbose_eval':True, \n",
    "                 'eval_metric' : 'mae', \n",
    "                 'colsample_bytree': 0.95,\n",
    "                 'subsample': 0.8,\n",
    "                 'nthread': 4,\n",
    "                 'min_child_weight': 1,\n",
    "                 'seed':i\n",
    "                }\n",
    "    num_round = 300\n",
    "    bst = xgb.train(param, dtrain, num_round)\n",
    "    et.fit(train,loss)\n",
    "    rf.fit(train,loss)\n",
    "    xgb_pred=bst.predict(dtest)\n",
    "    rf_pred=rf.predict(test)\n",
    "    et_pred=et.predict(test)\n",
    "    x_label='../data/xgb_'+str(i)+'.csv'\n",
    "    r_label='../data/rf_'+str(i)+'.csv'\n",
    "    e_label='../data/et_'+str(i)+'.csv'\n",
    "    df_xgb=pd.DataFrame(data={'ids':test_id,'loss':xgb_pred})\n",
    "    df_rf=pd.DataFrame(data={'ids':test_id,'loss':rf_pred})\n",
    "    df_et=pd.DataFrame(data={'ids':test_id,'loss':et_pred})\n",
    "    df_xgb.to_csv(x_label,index=False)\n",
    "    df_rf.to_csv(r_label,index=False)\n",
    "    df_et.to_csv(e_label,index=False)"
   ]
  },
  {
   "cell_type": "code",
   "execution_count": 26,
   "metadata": {
    "collapsed": false
   },
   "outputs": [
    {
     "name": "stderr",
     "output_type": "stream",
     "text": [
      "[Parallel(n_jobs=4)]: Done 100 out of 100 | elapsed:  4.3min finished\n",
      "[Parallel(n_jobs=4)]: Done  42 tasks      | elapsed:    1.3s\n",
      "[Parallel(n_jobs=4)]: Done 100 out of 100 | elapsed:    3.1s finished\n",
      "[Parallel(n_jobs=4)]: Done  42 tasks      | elapsed:  1.8min\n",
      "[Parallel(n_jobs=4)]: Done 100 out of 100 | elapsed:  4.0min finished\n",
      "[Parallel(n_jobs=4)]: Done  42 tasks      | elapsed:    1.3s\n",
      "[Parallel(n_jobs=4)]: Done 100 out of 100 | elapsed:    3.2s finished\n",
      "[Parallel(n_jobs=4)]: Done  42 tasks      | elapsed:  1.7min\n",
      "[Parallel(n_jobs=4)]: Done 100 out of 100 | elapsed:  4.0min finished\n",
      "[Parallel(n_jobs=4)]: Done  42 tasks      | elapsed:    1.3s\n",
      "[Parallel(n_jobs=4)]: Done 100 out of 100 | elapsed:    3.1s finished\n",
      "[Parallel(n_jobs=4)]: Done  42 tasks      | elapsed:  1.7min\n",
      "[Parallel(n_jobs=4)]: Done 100 out of 100 | elapsed:  4.0min finished\n",
      "[Parallel(n_jobs=4)]: Done  42 tasks      | elapsed:    1.3s\n",
      "[Parallel(n_jobs=4)]: Done 100 out of 100 | elapsed:    3.1s finished\n",
      "[Parallel(n_jobs=4)]: Done  42 tasks      | elapsed:  1.7min\n",
      "[Parallel(n_jobs=4)]: Done 100 out of 100 | elapsed:  4.0min finished\n",
      "[Parallel(n_jobs=4)]: Done  42 tasks      | elapsed:    1.3s\n",
      "[Parallel(n_jobs=4)]: Done 100 out of 100 | elapsed:    3.2s finished\n"
     ]
    }
   ],
   "source": [
    "seed=[1,2,3,4,5]\n",
    "for i in seed:\n",
    "    train=pd.read_csv('../data/train_ohe.csv')\n",
    "    train.drop(['loss'],inplace=True,axis=1)\n",
    "    rf=RandomForestRegressor(n_estimators=100, criterion='mse', max_depth=None,\n",
    "                             min_samples_split=2, min_samples_leaf=1, max_features=0.2, \n",
    "                             max_leaf_nodes=None,   \n",
    "                             oob_score=True, n_jobs=4, random_state=i, verbose=1)\n",
    "    \n",
    "    rf.fit(train,loss)\n",
    "    del train\n",
    "    test=pd.read_csv('../data/test_ohe.csv')\n",
    "    test.drop(['loss'],inplace=True,axis=1)   \n",
    "    rf_pred=rf.predict(test)\n",
    "    del test\n",
    "    r_label='../data/rf_'+str(i)+'.csv'\n",
    "    df_rf=pd.DataFrame(data={'ids':test_id,'loss':rf_pred})\n",
    "    df_rf.to_csv(r_label,index=False)\n",
    "   "
   ]
  },
  {
   "cell_type": "code",
   "execution_count": 28,
   "metadata": {
    "collapsed": false
   },
   "outputs": [],
   "source": [
    "\n",
    "\n",
    "\n",
    "for i in seed:\n",
    "    train=pd.read_csv('../data/train_ohe.csv')\n",
    "    train.drop(['loss'],inplace=True,axis=1)\n",
    "    dtrain = xgb.DMatrix(train.as_matrix(),label=loss.as_matrix())\n",
    "    del train\n",
    "    param = {'max_depth':6, \n",
    "                 'eta':0.1, \n",
    "                 'silent':False, \n",
    "                 'objective':'reg:linear', \n",
    "                 'verbose_eval':True, \n",
    "                 'eval_metric' : 'mae', \n",
    "                 'colsample_bytree': 0.95,\n",
    "                 'subsample': 0.8,\n",
    "                 'nthread': 4,\n",
    "                 'min_child_weight': 1,\n",
    "                 'seed':i\n",
    "                }\n",
    "    num_round = 300\n",
    "    bst = xgb.train(param, dtrain, num_round)\n",
    "    del dtrain\n",
    "    test=test=pd.read_csv('../data/test_ohe.csv')\n",
    "    test.drop(['loss'],inplace=True,axis=1)   \n",
    "    dtest=xgb.DMatrix(test.as_matrix(), label=None)\n",
    "    del test\n",
    "    xgb_pred=bst.predict(dtest)\n",
    "    del dtest\n",
    "    x_label='../data/xgb_'+str(i)+'.csv'\n",
    "    df_xgb=pd.DataFrame(data={'id':test_id,'loss':xgb_pred})  \n",
    "    df_xgb.to_csv(x_label,index=False)\n",
    "   \n"
   ]
  },
  {
   "cell_type": "code",
   "execution_count": 7,
   "metadata": {
    "collapsed": false
   },
   "outputs": [
    {
     "name": "stderr",
     "output_type": "stream",
     "text": [
      "[Parallel(n_jobs=4)]: Done  42 tasks      | elapsed:  3.1min\n",
      "[Parallel(n_jobs=4)]: Done 100 out of 100 | elapsed:  7.7min finished\n",
      "[Parallel(n_jobs=4)]: Done  42 tasks      | elapsed:    2.2s\n",
      "[Parallel(n_jobs=4)]: Done 100 out of 100 | elapsed:    5.3s finished\n",
      "[Parallel(n_jobs=4)]: Done  42 tasks      | elapsed:  3.2min\n",
      "[Parallel(n_jobs=4)]: Done 100 out of 100 | elapsed:  7.6min finished\n",
      "[Parallel(n_jobs=4)]: Done  42 tasks      | elapsed:    1.9s\n",
      "[Parallel(n_jobs=4)]: Done 100 out of 100 | elapsed:    4.8s finished\n",
      "[Parallel(n_jobs=4)]: Done  42 tasks      | elapsed:  3.3min\n",
      "[Parallel(n_jobs=4)]: Done 100 out of 100 | elapsed:  7.6min finished\n",
      "[Parallel(n_jobs=4)]: Done  42 tasks      | elapsed:    1.8s\n",
      "[Parallel(n_jobs=4)]: Done 100 out of 100 | elapsed:    4.4s finished\n",
      "[Parallel(n_jobs=4)]: Done  42 tasks      | elapsed:  3.2min\n",
      "[Parallel(n_jobs=4)]: Done 100 out of 100 | elapsed:  7.4min finished\n",
      "[Parallel(n_jobs=4)]: Done  42 tasks      | elapsed:    1.6s\n",
      "[Parallel(n_jobs=4)]: Done 100 out of 100 | elapsed:    3.8s finished\n",
      "[Parallel(n_jobs=4)]: Done  42 tasks      | elapsed:  3.2min\n",
      "[Parallel(n_jobs=4)]: Done 100 out of 100 | elapsed:  7.2min finished\n",
      "[Parallel(n_jobs=4)]: Done  42 tasks      | elapsed:    1.8s\n",
      "[Parallel(n_jobs=4)]: Done 100 out of 100 | elapsed:    4.1s finished\n"
     ]
    }
   ],
   "source": [
    "seed=[1,2,3,4,5]\n",
    "\n",
    "for i in seed:\n",
    "    train=pd.read_csv('../data/train_ohe.csv')\n",
    "    train.drop(['loss'],inplace=True,axis=1)\n",
    "   \n",
    "    et=ExtraTreesRegressor(n_estimators=100, criterion='mse', max_depth=None,\n",
    "                             min_samples_split=2, min_samples_leaf=1, max_features=0.2, \n",
    "                             max_leaf_nodes=None, \n",
    "                           n_jobs=4, random_state=i, verbose=1)\n",
    "    et.fit(train,loss)\n",
    "    del train\n",
    "    test=pd.read_csv('../data/test_ohe.csv')  \n",
    "    test.drop(['loss'],inplace=True,axis=1)                    \n",
    "    et_pred=et.predict(test)\n",
    "    del test                       \n",
    "    e_label='../data/et_'+str(i)+'.csv'\n",
    "    df_et=pd.DataFrame(data={'id':test_id,'loss':et_pred})\n",
    "    df_et.to_csv(e_label,index=False)"
   ]
  },
  {
   "cell_type": "code",
   "execution_count": 27,
   "metadata": {
    "collapsed": false
   },
   "outputs": [
    {
     "ename": "NameError",
     "evalue": "name 'test' is not defined",
     "output_type": "error",
     "traceback": [
      "\u001b[1;31m---------------------------------------------------------------------------\u001b[0m",
      "\u001b[1;31mNameError\u001b[0m                                 Traceback (most recent call last)",
      "\u001b[1;32m<ipython-input-27-224adb956315>\u001b[0m in \u001b[0;36m<module>\u001b[1;34m()\u001b[0m\n\u001b[1;32m----> 1\u001b[1;33m \u001b[0mtest\u001b[0m\u001b[1;33m.\u001b[0m\u001b[0minfo\u001b[0m\u001b[1;33m(\u001b[0m\u001b[1;33m)\u001b[0m\u001b[1;33m\u001b[0m\u001b[0m\n\u001b[0m",
      "\u001b[1;31mNameError\u001b[0m: name 'test' is not defined"
     ]
    }
   ],
   "source": [
    "test.info()"
   ]
  },
  {
   "cell_type": "code",
   "execution_count": 35,
   "metadata": {
    "collapsed": false
   },
   "outputs": [],
   "source": [
    "train=pd.read_csv('../data/train_ohe.csv')"
   ]
  },
  {
   "cell_type": "code",
   "execution_count": 2,
   "metadata": {
    "collapsed": false
   },
   "outputs": [
    {
     "name": "stderr",
     "output_type": "stream",
     "text": [
      "[Parallel(n_jobs=4)]: Done  42 tasks      | elapsed:  1.7min\n",
      "[Parallel(n_jobs=4)]: Done 100 out of 100 | elapsed:  4.0min finished\n"
     ]
    },
    {
     "data": {
      "text/plain": [
       "RandomForestRegressor(bootstrap=True, criterion='mse', max_depth=None,\n",
       "           max_features=0.2, max_leaf_nodes=None, min_impurity_split=1e-07,\n",
       "           min_samples_leaf=1, min_samples_split=2,\n",
       "           min_weight_fraction_leaf=0.0, n_estimators=100, n_jobs=4,\n",
       "           oob_score=True, random_state=0, verbose=1, warm_start=False)"
      ]
     },
     "execution_count": 2,
     "metadata": {},
     "output_type": "execute_result"
    }
   ],
   "source": [
    "import pandas as pd\n",
    "import numpy as np\n",
    "%matplotlib inline\n",
    "train=pd.read_csv('../data/train.csv')\n",
    "test=pd.read_csv('../data/test.csv')\n",
    "loss=train['loss']\n",
    "ids=train['id']\n",
    "test_id=test['id']\n",
    "#just lazy as I already munged in the data in Allstate Basic, so I reload the munged data.\n",
    "train=pd.read_csv('../data/train_ohe.csv')\n",
    "test=pd.read_csv('../data/test_ohe.csv')\n",
    "train.drop(['loss'],inplace=True,axis=1)\n",
    "\n",
    "\n",
    "from sklearn.ensemble import ExtraTreesRegressor,RandomForestRegressor\n",
    "import xgboost as xgb\n",
    "#del train\n",
    "train=pd.read_csv('../data/train_ohe.csv')\n",
    "train.drop(['loss'],inplace=True,axis=1)\n",
    "rf=RandomForestRegressor(n_estimators=100, criterion='mse', max_depth=None,\n",
    "                             min_samples_split=2, min_samples_leaf=1, max_features=0.2, \n",
    "                             max_leaf_nodes=None,   \n",
    "                             oob_score=True, n_jobs=4, random_state=0, verbose=1)\n",
    "    \n",
    "rf.fit(train,loss)"
   ]
  },
  {
   "cell_type": "code",
   "execution_count": 5,
   "metadata": {
    "collapsed": false
   },
   "outputs": [
    {
     "name": "stderr",
     "output_type": "stream",
     "text": [
      "[Parallel(n_jobs=4)]: Done  42 tasks      | elapsed:    0.0s\n",
      "[Parallel(n_jobs=4)]: Done 100 out of 100 | elapsed:    0.1s finished\n",
      "[Parallel(n_jobs=4)]: Done  42 tasks      | elapsed:    0.0s\n",
      "[Parallel(n_jobs=4)]: Done 100 out of 100 | elapsed:    0.0s finished\n"
     ]
    }
   ],
   "source": [
    "train=pd.read_csv('../data/train_ohe.csv')\n",
    "train.drop(['loss'],inplace=True,axis=1)\n",
    "   \n",
    "et=ExtraTreesRegressor(n_estimators=100, criterion='mse', max_depth=None,\n",
    "                             min_samples_split=2, min_samples_leaf=1, max_features=0.2, \n",
    "                             max_leaf_nodes=None, \n",
    "                           n_jobs=4, random_state=7, verbose=1)\n",
    "et.fit(train,loss)\n",
    "del train\n",
    "test=pd.read_csv('../data/test_ohe.csv')  \n",
    "test.drop(['loss'],inplace=True,axis=1)                    \n",
    "et_pred=et.predict(test)"
   ]
  },
  {
   "cell_type": "code",
   "execution_count": 6,
   "metadata": {
    "collapsed": false
   },
   "outputs": [
    {
     "data": {
      "text/plain": [
       "array([ 3037.33768567,  3037.33768567,  3037.33768567, ...,  3037.33768567,\n",
       "        3037.33768567,  3037.33768567])"
      ]
     },
     "execution_count": 6,
     "metadata": {},
     "output_type": "execute_result"
    }
   ],
   "source": [
    "et_pred"
   ]
  },
  {
   "cell_type": "code",
   "execution_count": null,
   "metadata": {
    "collapsed": true
   },
   "outputs": [],
   "source": []
  }
 ],
 "metadata": {
  "kernelspec": {
   "display_name": "Python 3",
   "language": "python",
   "name": "python3"
  },
  "language_info": {
   "codemirror_mode": {
    "name": "ipython",
    "version": 3
   },
   "file_extension": ".py",
   "mimetype": "text/x-python",
   "name": "python",
   "nbconvert_exporter": "python",
   "pygments_lexer": "ipython3",
   "version": "3.5.2"
  }
 },
 "nbformat": 4,
 "nbformat_minor": 0
}
