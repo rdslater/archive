{
 "cells": [
  {
   "cell_type": "code",
   "execution_count": 37,
   "metadata": {
    "collapsed": false
   },
   "outputs": [
    {
     "name": "stdout",
     "output_type": "stream",
     "text": [
      "Read 2000000 lines...\n",
      "Read 4000000 lines...\n",
      "Read 6000000 lines...\n",
      "Read 8000000 lines...\n",
      "Read 10000000 lines...\n",
      "Read 12000000 lines...\n",
      "Read 14000000 lines...\n",
      "Read 16000000 lines...\n"
     ]
    },
    {
     "ename": "KeyboardInterrupt",
     "evalue": "",
     "output_type": "error",
     "traceback": [
      "\u001b[1;31m---------------------------------------------------------------------------\u001b[0m",
      "\u001b[1;31mKeyboardInterrupt\u001b[0m                         Traceback (most recent call last)",
      "\u001b[1;32m<ipython-input-37-5cd51ccdea51>\u001b[0m in \u001b[0;36m<module>\u001b[1;34m()\u001b[0m\n\u001b[0;32m    152\u001b[0m \u001b[1;33m\u001b[0m\u001b[0m\n\u001b[0;32m    153\u001b[0m \u001b[0mseason_dict\u001b[0m\u001b[1;33m=\u001b[0m\u001b[1;33m{\u001b[0m\u001b[1;36m1\u001b[0m\u001b[1;33m:\u001b[0m \u001b[1;34m'Winter'\u001b[0m\u001b[1;33m,\u001b[0m\u001b[1;36m2\u001b[0m\u001b[1;33m:\u001b[0m\u001b[1;34m'Winter'\u001b[0m\u001b[1;33m,\u001b[0m\u001b[1;36m3\u001b[0m\u001b[1;33m:\u001b[0m\u001b[1;34m'Spring'\u001b[0m\u001b[1;33m,\u001b[0m\u001b[1;36m4\u001b[0m\u001b[1;33m:\u001b[0m\u001b[1;34m'Spring'\u001b[0m\u001b[1;33m,\u001b[0m\u001b[1;36m5\u001b[0m\u001b[1;33m:\u001b[0m\u001b[1;34m'Spring'\u001b[0m\u001b[1;33m,\u001b[0m\u001b[1;36m6\u001b[0m\u001b[1;33m:\u001b[0m\u001b[1;34m'Summer'\u001b[0m\u001b[1;33m,\u001b[0m\u001b[1;36m7\u001b[0m\u001b[1;33m:\u001b[0m\u001b[1;34m'Summer'\u001b[0m\u001b[1;33m,\u001b[0m\u001b[1;36m8\u001b[0m\u001b[1;33m:\u001b[0m\u001b[1;34m'Summer'\u001b[0m\u001b[1;33m,\u001b[0m\u001b[1;36m9\u001b[0m\u001b[1;33m:\u001b[0m\u001b[1;34m'Fall'\u001b[0m\u001b[1;33m,\u001b[0m\u001b[1;36m10\u001b[0m\u001b[1;33m:\u001b[0m\u001b[1;34m'Fall'\u001b[0m\u001b[1;33m,\u001b[0m\u001b[1;36m11\u001b[0m\u001b[1;33m:\u001b[0m\u001b[1;34m'Fall'\u001b[0m\u001b[1;33m,\u001b[0m\u001b[1;36m12\u001b[0m\u001b[1;33m:\u001b[0m\u001b[1;34m'Winter'\u001b[0m\u001b[1;33m,\u001b[0m\u001b[1;36m13\u001b[0m\u001b[1;33m:\u001b[0m\u001b[1;34m'None'\u001b[0m\u001b[1;33m}\u001b[0m\u001b[1;33m\u001b[0m\u001b[0m\n\u001b[1;32m--> 154\u001b[1;33m \u001b[0mbest_hotels_od_ulc\u001b[0m\u001b[1;33m,\u001b[0m \u001b[0mbest_hotels_search_dest\u001b[0m\u001b[1;33m,\u001b[0m \u001b[0mpopular_hotel_cluster\u001b[0m \u001b[1;33m=\u001b[0m \u001b[0mprepare_arrays_match\u001b[0m\u001b[1;33m(\u001b[0m\u001b[1;33m)\u001b[0m\u001b[1;33m\u001b[0m\u001b[0m\n\u001b[0m\u001b[0;32m    155\u001b[0m \u001b[0mgen_submission\u001b[0m\u001b[1;33m(\u001b[0m\u001b[0mbest_hotels_search_dest\u001b[0m\u001b[1;33m,\u001b[0m \u001b[0mbest_hotels_od_ulc\u001b[0m\u001b[1;33m,\u001b[0m \u001b[0mpopular_hotel_cluster\u001b[0m\u001b[1;33m)\u001b[0m\u001b[1;33m\u001b[0m\u001b[0m\n",
      "\u001b[1;32m<ipython-input-37-5cd51ccdea51>\u001b[0m in \u001b[0;36mprepare_arrays_match\u001b[1;34m()\u001b[0m\n\u001b[0;32m     17\u001b[0m     \u001b[1;31m# Calc counts\u001b[0m\u001b[1;33m\u001b[0m\u001b[1;33m\u001b[0m\u001b[0m\n\u001b[0;32m     18\u001b[0m     \u001b[1;32mwhile\u001b[0m \u001b[1;36m1\u001b[0m\u001b[1;33m:\u001b[0m\u001b[1;33m\u001b[0m\u001b[0m\n\u001b[1;32m---> 19\u001b[1;33m         \u001b[0mline\u001b[0m \u001b[1;33m=\u001b[0m \u001b[0mf\u001b[0m\u001b[1;33m.\u001b[0m\u001b[0mreadline\u001b[0m\u001b[1;33m(\u001b[0m\u001b[1;33m)\u001b[0m\u001b[1;33m.\u001b[0m\u001b[0mstrip\u001b[0m\u001b[1;33m(\u001b[0m\u001b[1;33m)\u001b[0m\u001b[1;33m\u001b[0m\u001b[0m\n\u001b[0m\u001b[0;32m     20\u001b[0m         \u001b[0mtotal\u001b[0m \u001b[1;33m+=\u001b[0m \u001b[1;36m1\u001b[0m\u001b[1;33m\u001b[0m\u001b[0m\n\u001b[0;32m     21\u001b[0m \u001b[1;33m\u001b[0m\u001b[0m\n",
      "\u001b[1;32mC:\\Anaconda3\\lib\\encodings\\cp1252.py\u001b[0m in \u001b[0;36mdecode\u001b[1;34m(self, input, final)\u001b[0m\n\u001b[0;32m     20\u001b[0m \u001b[1;33m\u001b[0m\u001b[0m\n\u001b[0;32m     21\u001b[0m \u001b[1;32mclass\u001b[0m \u001b[0mIncrementalDecoder\u001b[0m\u001b[1;33m(\u001b[0m\u001b[0mcodecs\u001b[0m\u001b[1;33m.\u001b[0m\u001b[0mIncrementalDecoder\u001b[0m\u001b[1;33m)\u001b[0m\u001b[1;33m:\u001b[0m\u001b[1;33m\u001b[0m\u001b[0m\n\u001b[1;32m---> 22\u001b[1;33m     \u001b[1;32mdef\u001b[0m \u001b[0mdecode\u001b[0m\u001b[1;33m(\u001b[0m\u001b[0mself\u001b[0m\u001b[1;33m,\u001b[0m \u001b[0minput\u001b[0m\u001b[1;33m,\u001b[0m \u001b[0mfinal\u001b[0m\u001b[1;33m=\u001b[0m\u001b[1;32mFalse\u001b[0m\u001b[1;33m)\u001b[0m\u001b[1;33m:\u001b[0m\u001b[1;33m\u001b[0m\u001b[0m\n\u001b[0m\u001b[0;32m     23\u001b[0m         \u001b[1;32mreturn\u001b[0m \u001b[0mcodecs\u001b[0m\u001b[1;33m.\u001b[0m\u001b[0mcharmap_decode\u001b[0m\u001b[1;33m(\u001b[0m\u001b[0minput\u001b[0m\u001b[1;33m,\u001b[0m\u001b[0mself\u001b[0m\u001b[1;33m.\u001b[0m\u001b[0merrors\u001b[0m\u001b[1;33m,\u001b[0m\u001b[0mdecoding_table\u001b[0m\u001b[1;33m)\u001b[0m\u001b[1;33m[\u001b[0m\u001b[1;36m0\u001b[0m\u001b[1;33m]\u001b[0m\u001b[1;33m\u001b[0m\u001b[0m\n\u001b[0;32m     24\u001b[0m \u001b[1;33m\u001b[0m\u001b[0m\n",
      "\u001b[1;31mKeyboardInterrupt\u001b[0m: "
     ]
    }
   ],
   "source": [
    "# coding: utf-8\n",
    "__author__ = 'ZFTurbo: https://kaggle.com/zfturbo'\n",
    "\n",
    "import datetime\n",
    "from heapq import nlargest\n",
    "from operator import itemgetter\n",
    "from datetime import datetime\n",
    "\n",
    "def prepare_arrays_match():\n",
    "    f = open(\"./kaggle/expedia/data/train.csv\", \"r\")\n",
    "    f.readline()\n",
    "    best_hotels_od_ulc = dict()\n",
    "    best_hotels_search_dest = dict()\n",
    "    popular_hotel_cluster = dict()\n",
    "    total = 0\n",
    "\n",
    "    # Calc counts\n",
    "    while 1:\n",
    "        line = f.readline().strip()\n",
    "        total += 1\n",
    "\n",
    "        if total % 2000000 == 0:\n",
    "            print('Read {} lines...'.format(total))\n",
    "\n",
    "        if line == '':\n",
    "            break\n",
    "\n",
    "        arr = line.split(\",\")\n",
    "        user_location_city = arr[5]\n",
    "        orig_destination_distance = arr[6]\n",
    "        srch_destination_id = arr[16]\n",
    "        hotel_country = arr[21]\n",
    "        hotel_market = arr[22]\n",
    "        is_booking = float(arr[18])\n",
    "        hotel_cluster = arr[23]\n",
    "        is_package=arr[9]\n",
    "        dt_str1=arr[11]\n",
    "        try:\n",
    "            dt_start = datetime.strptime(dt_str1, '%Y-%m-%d')\n",
    "            month=dt_start.month\n",
    "        except:\n",
    "            month=13\n",
    "        season=season_dict[month]\n",
    "        \n",
    "        if user_location_city != '' and orig_destination_distance != '':\n",
    "            s1 = (user_location_city, orig_destination_distance)\n",
    "\n",
    "            if s1 in best_hotels_od_ulc:\n",
    "                if hotel_cluster in best_hotels_od_ulc[s1]:\n",
    "                    best_hotels_od_ulc[s1][hotel_cluster] += 1\n",
    "                else:\n",
    "                    best_hotels_od_ulc[s1][hotel_cluster] = 1\n",
    "            else:\n",
    "                best_hotels_od_ulc[s1] = dict()\n",
    "                best_hotels_od_ulc[s1][hotel_cluster] = 1\n",
    "\n",
    "        if srch_destination_id != '' and hotel_country != '' and hotel_market != '' and is_package!='' and season!='':\n",
    "            s2 = (srch_destination_id,hotel_country,hotel_market,is_package,season)\n",
    "            if s2 in best_hotels_search_dest:\n",
    "                if hotel_cluster in best_hotels_search_dest[s2]:\n",
    "                    best_hotels_search_dest[s2][hotel_cluster] += is_booking*1 + (1-is_booking)*0.15\n",
    "                else:\n",
    "                    best_hotels_search_dest[s2][hotel_cluster] = is_booking*1 + (1-is_booking)*0.15\n",
    "            else:\n",
    "                best_hotels_search_dest[s2] = dict()\n",
    "                best_hotels_search_dest[s2][hotel_cluster] = is_booking*1 + (1-is_booking)*0.15\n",
    "\n",
    "        if hotel_cluster in popular_hotel_cluster:\n",
    "            popular_hotel_cluster[hotel_cluster] += 1\n",
    "        else:\n",
    "            popular_hotel_cluster[hotel_cluster] = 1\n",
    "\n",
    "    f.close()\n",
    "    return best_hotels_od_ulc, best_hotels_search_dest, popular_hotel_cluster\n",
    "\n",
    "\n",
    "def gen_submission(best_hotels_search_dest, best_hotels_od_ulc, popular_hotel_cluster):\n",
    "    now = datetime.now()\n",
    "    path = 'submission2_' + str(now.strftime(\"%Y-%m-%d-%H-%M\")) + '.csv'\n",
    "    out = open(path, \"w\")\n",
    "    f = open(\"./kaggle/expedia/data/test.csv\", \"r\")\n",
    "    f.readline()\n",
    "    total = 0\n",
    "    out.write(\"id,hotel_cluster\\n\")\n",
    "    topclasters = nlargest(5, sorted(popular_hotel_cluster.items()), key=itemgetter(1))\n",
    "\n",
    "    while 1:\n",
    "        line = f.readline().strip()\n",
    "        total += 1\n",
    "\n",
    "        if total % 100000 == 0:\n",
    "            print('Write {} lines...'.format(total))\n",
    "\n",
    "        if line == '':\n",
    "            break\n",
    "\n",
    "        arr = line.split(\",\")\n",
    "        id = arr[0]\n",
    "        user_location_city = arr[6]\n",
    "        orig_destination_distance = arr[7]\n",
    "        srch_destination_id = arr[17]\n",
    "        hotel_country = arr[20]\n",
    "        hotel_market = arr[21]\n",
    "        is_package=arr[10]\n",
    "        dt_str1=arr[12]\n",
    "        try:\n",
    "            dt_start = datetime.strptime(dt_str1, '%Y-%m-%d')\n",
    "            month=dt_start.month\n",
    "        except ValueError:\n",
    "            month=13\n",
    "        season=season_dict[month]\n",
    "        season\n",
    "        season=season_dict[month]\n",
    "        \n",
    "        out.write(str(id) + ',')\n",
    "        filled = []\n",
    "\n",
    "        s1 = (user_location_city, orig_destination_distance)\n",
    "        if s1 in best_hotels_od_ulc:\n",
    "            d = best_hotels_od_ulc[s1]\n",
    "            topitems = nlargest(5, sorted(d.items()), key=itemgetter(1))\n",
    "            for i in range(len(topitems)):\n",
    "                if topitems[i][0] in filled:\n",
    "                    continue\n",
    "                if len(filled) == 5:\n",
    "                    break\n",
    "                out.write(' ' + topitems[i][0])\n",
    "                filled.append(topitems[i][0])\n",
    "\n",
    "        s2 = (srch_destination_id,hotel_country,hotel_market,is_package,season)\n",
    "        if s2 in best_hotels_search_dest:\n",
    "            d = best_hotels_search_dest[s2]\n",
    "            topitems = nlargest(5, d.items(), key=itemgetter(1))\n",
    "            for i in range(len(topitems)):\n",
    "                if topitems[i][0] in filled:\n",
    "                    continue\n",
    "                if len(filled) == 5:\n",
    "                    break\n",
    "                out.write(' ' + topitems[i][0])\n",
    "                filled.append(topitems[i][0])\n",
    "\n",
    "        for i in range(len(topclasters)):\n",
    "            if topclasters[i][0] in filled:\n",
    "                continue\n",
    "            if len(filled) == 5:\n",
    "                break\n",
    "            out.write(' ' + topclasters[i][0])\n",
    "            filled.append(topclasters[i][0])\n",
    "\n",
    "        out.write(\"\\n\")\n",
    "    out.close()\n",
    "\n",
    "season_dict={1: 'Winter',2:'Winter',3:'Spring',4:'Spring',5:'Spring',6:'Summer',7:'Summer',8:'Summer',9:'Fall',10:'Fall',11:'Fall',12:'Winter',13:'None'}\n",
    "best_hotels_od_ulc, best_hotels_search_dest, popular_hotel_cluster = prepare_arrays_match()\n",
    "gen_submission(best_hotels_search_dest, best_hotels_od_ulc, popular_hotel_cluster)"
   ]
  },
  {
   "cell_type": "code",
   "execution_count": 48,
   "metadata": {
    "collapsed": false,
    "scrolled": false
   },
   "outputs": [
    {
     "ename": "SyntaxError",
     "evalue": "invalid syntax (<ipython-input-48-a2723f9b8b11>, line 1)",
     "output_type": "error",
     "traceback": [
      "\u001b[1;36m  File \u001b[1;32m\"<ipython-input-48-a2723f9b8b11>\"\u001b[1;36m, line \u001b[1;32m1\u001b[0m\n\u001b[1;33m    season_dict[]\u001b[0m\n\u001b[1;37m                ^\u001b[0m\n\u001b[1;31mSyntaxError\u001b[0m\u001b[1;31m:\u001b[0m invalid syntax\n"
     ]
    }
   ],
   "source": [
    "season_dict[]"
   ]
  },
  {
   "cell_type": "code",
   "execution_count": 65,
   "metadata": {
    "collapsed": false
   },
   "outputs": [
    {
     "name": "stdout",
     "output_type": "stream",
     "text": [
      "Read 2000000 lines...\n",
      "2528244\n"
     ]
    }
   ],
   "source": [
    "from collections import Counter\n",
    "site_name=Counter()\n",
    "posa_continent=Counter()\n",
    "user_location_country=Counter()\n",
    "user_location_region=Counter()\n",
    "user_location_city=Counter()\n",
    "orig_destination_distance=Counter()\n",
    "user_id=Counter()\n",
    "is_mobile=Counter()\n",
    "is_package=Counter()\n",
    "channel=Counter()\n",
    "srch_ci=Counter()\n",
    "srch_co=Counter()\n",
    "srch_adults_cnt=Counter()\n",
    "srch_children_cnt=Counter()\n",
    "srch_rm_cnt=Counter()\n",
    "srch_destination_id=Counter()\n",
    "srch_destination_type_id=Counter()\n",
    "hotel_continent=Counter()\n",
    "hotel_country=Counter()\n",
    "hotel_market=Counter()\n",
    "is_booking=Counter()\n",
    "cnt=Counter()\n",
    "hotel_cluster=Counter()\n",
    "\n",
    "f = open(\"./kaggle/expedia/data/test.csv\", \"r\")\n",
    "f.readline()\n",
    "total = 0\n",
    "\n",
    "while 1:\n",
    "    line = f.readline().strip()\n",
    "    total += 1\n",
    "\n",
    "    if total % 2000000 == 0:\n",
    "        print('Read {} lines...'.format(total))\n",
    "\n",
    "    if line == '':\n",
    "        print(total)\n",
    "        break\n",
    "    \n",
    "    for index in range(len(arr)):\n",
    "        if arr[index]:\n",
    "            arr[index]\n",
    "        else:\n",
    "            arr[index]=-1\n",
    "    arr = line.split(\",\")\n",
    "    site_name[arr[2]]+=1\n",
    "    posa_continent[arr[3]]+=1\n",
    "    user_location_country[arr[4]]+=1\n",
    "    user_location_region[arr[5]]+=1\n",
    "    user_location_city[arr[6]]+=1\n",
    "    orig_destination_distance[arr[7]]+=1\n",
    "    user_id[arr[8]]+=1\n",
    "    is_mobile[arr[9]]+=1\n",
    "    is_package[arr[10]]+=1\n",
    "    channel[arr[11]]+=1\n",
    "    srch_ci[arr[12]]+=1\n",
    "    srch_co[arr[13]]+=1\n",
    "    srch_adults_cnt[arr[14]]+=1\n",
    "    srch_children_cnt[arr[15]]+=1\n",
    "    srch_rm_cnt[arr[16]]+=1\n",
    "    srch_destination_id[arr[17]]+=1\n",
    "    srch_destination_type_id[arr[18]]+=1\n",
    "    hotel_continent[arr[19]]+=1\n",
    "    hotel_country[arr[20]]+=1\n",
    "    hotel_market[arr[21]]+=1\n",
    "#    is_booking[arr[22]]+=1\n",
    "#    cnt[arr[22]]+=1\n",
    "#    hotel_cluster[arr[23]]+=1\n",
    "f.close()\n",
    "\n",
    "\n",
    "\n"
   ]
  },
  {
   "cell_type": "code",
   "execution_count": null,
   "metadata": {
    "collapsed": false
   },
   "outputs": [],
   "source": [
    "import matplotlib.pyplot as plt; plt.rcdefaults()\n",
    "import numpy as np\n",
    "import matplotlib.pyplot as plt\n",
    "from operator import itemgetter\n",
    "\n",
    "\n",
    "for i in names:\n",
    "    # Counter data, counter is your counter object\n",
    "    keys = sorted(i,key=itemgetter(0))\n",
    "    y_pos = np.arange(len(keys))\n",
    "    # get the counts for each key, assuming the values are numerical\n",
    "    performance = [counter[k] for k in keys]\n",
    "    # not sure if you want this :S\n",
    "    error = np.random.rand(len(keys))\n",
    "\n",
    "    plt.barh(y_pos, performance, align='center', alpha=0.4)\n",
    "    plt.yticks(y_pos, keys)\n",
    "    plt.xlabel('Counts per key')\n",
    "    plt.title(i)\n",
    "\n",
    "    plt.show()"
   ]
  },
  {
   "cell_type": "code",
   "execution_count": 90,
   "metadata": {
    "collapsed": false
   },
   "outputs": [],
   "source": [
    "names=[site_name,posa_continent,user_location_country,user_location_region,user_location_city,\n",
    "       orig_destination_distance,user_id,is_mobile,is_package,channel,srch_ci,srch_co,srch_adults_cnt,\n",
    "       srch_children_cnt,srch_rm_cnt,srch_destination_id,srch_destination_type_id,hotel_continent,\n",
    "       hotel_country,hotel_market,is_booking,cnt,hotel_cluster]\n"
   ]
  },
  {
   "cell_type": "code",
   "execution_count": 97,
   "metadata": {
    "collapsed": false
   },
   "outputs": [],
   "source": [
    "keys = sorted(names[i],key=itemgetter(0))"
   ]
  },
  {
   "cell_type": "code",
   "execution_count": null,
   "metadata": {
    "collapsed": false
   },
   "outputs": [],
   "source": [
    "site_name"
   ]
  },
  {
   "cell_type": "code",
   "execution_count": null,
   "metadata": {
    "collapsed": true
   },
   "outputs": [],
   "source": [
    "a=5\n"
   ]
  }
 ],
 "metadata": {
  "kernelspec": {
   "display_name": "Python 3",
   "language": "python",
   "name": "python3"
  },
  "language_info": {
   "codemirror_mode": {
    "name": "ipython",
    "version": 3
   },
   "file_extension": ".py",
   "mimetype": "text/x-python",
   "name": "python",
   "nbconvert_exporter": "python",
   "pygments_lexer": "ipython3",
   "version": "3.5.1"
  }
 },
 "nbformat": 4,
 "nbformat_minor": 0
}
