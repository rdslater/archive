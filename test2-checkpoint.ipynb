{
 "cells": [
  {
   "cell_type": "code",
   "execution_count": null,
   "metadata": {
    "collapsed": false,
    "scrolled": false
   },
   "outputs": [],
   "source": [
    "import sqlite3\n",
    "import pandas as pd\n",
    "import random as random\n",
    "from haversine import haversine\n",
    "import math as math\n",
    "\n",
    "north_pole = (90,0)\n",
    "weight_limit = 1000.0\n",
    "rnd=random.random()\n",
    "def bb_sort(ll):\n",
    "    T = 2000\n",
    "    alpha = 0.8\n",
    "    T_min=0\n",
    "    while T > T_min:\n",
    "        ll = [[0,north_pole,10]] + ll[:] + [[0,north_pole,10]] \n",
    "        for i in range(1,len(ll) - 2):\n",
    "            for k in range(i+2,len(ll)):\n",
    "                lcopy = ll[:]\n",
    "                lcopy[i:k]=ll[k-1:i-1:-1]\n",
    "                delt=(path_opt_test(lcopy[1:-1])-path_opt_test(ll[1:-1]))  \n",
    "                if delt>0:\n",
    "                    ap=math.exp(-delt/T)\n",
    "                else:\n",
    "                    ap=1           \n",
    "                if  ap>random.random():\n",
    "                    ll = lcopy[:]  \n",
    "                T = T*alpha\n",
    "        return ll[1:-1]\n",
    "\n",
    "def path_opt_test(llo):\n",
    "    f_ = 0.0\n",
    "    d_ = 0.0\n",
    "    l_ = north_pole\n",
    "    for i in range(len(llo)):\n",
    "        d_ += haversine(l_, llo[i][1])\n",
    "        f_ += d_ * llo[i][2]\n",
    "        l_ = llo[i][1]\n",
    "    d_ += haversine(l_, north_pole)\n",
    "    f_ += d_ * 10 #sleigh weight for whole trip\n",
    "    return f_\n",
    "\n",
    "gifts = pd.read_csv(\"C://Users//Robert//Downloads//gifts.csv\").fillna(\" \")\n",
    "c = sqlite3.connect(\":memory:\")\n",
    "gifts.to_sql(\"gifts\",c)\n",
    "cu = c.cursor()\n",
    "cu.execute(\"ALTER TABLE gifts ADD COLUMN 'TripId' INT;\")\n",
    "cu.execute(\"ALTER TABLE gifts ADD COLUMN 'i' INT;\")\n",
    "cu.execute(\"ALTER TABLE gifts ADD COLUMN 'j' INT;\")\n",
    "c.commit()\n",
    "\n",
    "\n",
    "for n in [1.25252525]:\n",
    "    i_ = 0\n",
    "    j_ = 0\n",
    "    for i in range(90,-90,int(-180/n)):\n",
    "        i_ += 1\n",
    "        j_ = 0\n",
    "        for j in range(180,-180,int(-360/n)):\n",
    "            j_ += 1\n",
    "            cu = c.cursor()\n",
    "            cu.execute(\"UPDATE gifts SET i=\" + str(i_) + \", j=\" + str(j_) + \" WHERE ((Latitude BETWEEN \" + str(i - (180/n)) + \" AND  \" + str(i) + \") AND (Longitude BETWEEN \" + str(j - (360/n)) + \" AND  \" + str(j) + \"));\")\n",
    "            c.commit()\n",
    "    \n",
    "    for limit_ in [67]:\n",
    "        trips = pd.read_sql(\"SELECT * FROM (SELECT * FROM gifts WHERE TripId IS NULL ORDER BY i, j, Longitude, Latitude LIMIT \" + str(limit_) + \" ) ORDER BY Latitude DESC\",c)\n",
    "        t_ = 0\n",
    "        while len(trips.GiftId)>0:\n",
    "            g = []\n",
    "            t_ += 1\n",
    "            w_ = 0.0\n",
    "            for i in range(len(trips.GiftId)):\n",
    "                if (w_ + float(trips.Weight[i]))<= weight_limit:\n",
    "                    w_ += float(trips.Weight[i])\n",
    "                    g.append(trips.GiftId[i])\n",
    "            cu = c.cursor()\n",
    "            cu.execute(\"UPDATE gifts SET TripId = \" + str(t_) + \" WHERE GiftId IN(\" + (\",\").join(map(str,g)) + \");\")\n",
    "            c.commit()\n",
    "        \n",
    "            trips = pd.read_sql(\"SELECT * FROM (SELECT * FROM gifts WHERE TripId IS NULL ORDER BY i, j, Longitude, Latitude LIMIT \" + str(limit_) + \" ) ORDER BY Latitude DESC\",c)\n",
    "            #break\n",
    "        \n",
    "        ou_ = open(\"submission_opt\" + str(limit_) + \" \" + str(n) + \".csv\",\"w\")\n",
    "        ou_.write(\"TripId,GiftId\\n\")\n",
    "        bm = 0.0\n",
    "        submission = pd.read_sql(\"SELECT TripId FROM gifts GROUP BY TripId ORDER BY TripId;\", c)\n",
    "        for s_ in range(len(submission.TripId)):\n",
    "            trip = pd.read_sql(\"SELECT GiftId, Latitude, Longitude, Weight FROM gifts WHERE TripId = \" + str(submission.TripId[s_]) + \" ORDER BY Latitude DESC, Longitude ASC;\",c)\n",
    "            a = []\n",
    "            for x_ in range(len(trip.GiftId)):\n",
    "                a.append([trip.GiftId[x_],(trip.Latitude[x_],trip.Longitude[x_]),trip.Weight[x_]])\n",
    "            b = bb_sort(a)\n",
    "            if path_opt_test(a) <= path_opt_test(b):\n",
    "                print(submission.TripId[s_], \"No Change\", path_opt_test(a) , path_opt_test(b))\n",
    "                bm += path_opt_test(a)\n",
    "                for y_ in range(len(a)):\n",
    "                    ou_.write(str(submission.TripId[s_])+\",\"+str(a[y_][0])+\"\\n\")\n",
    "            else:\n",
    "                print(submission.TripId[s_], \"Optimized\", path_opt_test(a) - path_opt_test(b))\n",
    "                bm += path_opt_test(b)\n",
    "                for y_ in range(len(b)):\n",
    "                    ou_.write(str(submission.TripId[s_])+\",\"+str(b[y_][0])+\"\\n\")\n",
    "        ou_.close()\n",
    "        \n",
    "        benchmark = 12506999134.2\n",
    "        if bm < benchmark:\n",
    "            print(n, limit_, \"Improvement\", bm, bm - benchmark, benchmark)\n",
    "        else:\n",
    "            print(n, limit_, \"Try again\", bm, bm - benchmark, benchmark)\n",
    "        cu = c.cursor()\n",
    "        cu.execute(\"UPDATE gifts SET TripId = NULL;\")\n",
    "        c.commit()"
   ]
  },
  {
   "cell_type": "code",
   "execution_count": 63,
   "metadata": {
    "collapsed": false
   },
   "outputs": [
    {
     "data": {
      "text/plain": [
       "2.6881171418161356e+43"
      ]
     },
     "execution_count": 63,
     "metadata": {},
     "output_type": "execute_result"
    }
   ],
   "source": [
    "\n"
   ]
  },
  {
   "cell_type": "code",
   "execution_count": null,
   "metadata": {
    "collapsed": true
   },
   "outputs": [],
   "source": []
  },
  {
   "cell_type": "code",
   "execution_count": null,
   "metadata": {
    "collapsed": true
   },
   "outputs": [],
   "source": []
  }
 ],
 "metadata": {
  "kernelspec": {
   "display_name": "Python 3",
   "language": "python",
   "name": "python3"
  },
  "language_info": {
   "codemirror_mode": {
    "name": "ipython",
    "version": 3
   },
   "file_extension": ".py",
   "mimetype": "text/x-python",
   "name": "python",
   "nbconvert_exporter": "python",
   "pygments_lexer": "ipython3",
   "version": "3.5.0"
  }
 },
 "nbformat": 4,
 "nbformat_minor": 0
}
